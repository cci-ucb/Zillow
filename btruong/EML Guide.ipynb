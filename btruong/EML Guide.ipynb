{
 "cells": [
  {
   "cell_type": "markdown",
   "metadata": {},
   "source": [
    "# EML Guide"
   ]
  },
  {
   "cell_type": "markdown",
   "metadata": {},
   "source": [
    "## Set Up an EML Account\n",
    "\n",
    "https://eml.berkeley.edu/acctsetup\n",
    "\n",
    "1. Fill in the EML application form\n",
    "    - Those with Calnet ID\n",
    "    - Those without Calnet ID\n",
    "    - Research Project Account\n",
    "2. Read the EML rules, the UC Berkeley computer use policies, and all accompanying guidelines that accompany the application form.\n",
    "3. Obtain a faculty signature (if you are a graduate student), or a principal investigator's signature for research project accounts, and the EML manager's signature (643 Evans Hall).\n",
    "4. Sign the project account application form stating that you have read the rules, you understand them, and you will comply with them.\n",
    "5. Take the project account application form to 643 Evans to establish your login name and your password.\n",
    "6. You will receive an e-mail confirming your account has been set up."
   ]
  },
  {
   "cell_type": "markdown",
   "metadata": {},
   "source": [
    "## Remote Access\n",
    "\n",
    "### Windows\n",
    "\n",
    "1. Search for \"Remote Desktop Connection\" in the Start Menu search bar and press enter.\n",
    "2. Enter any of the Computer Servers in the list below.\n",
    "3. Enter in your EML account info from the e-mail you received from the instructions above.\n",
    "4. Press connect.\n",
    "\n",
    "### Mac\n",
    "\n",
    "1. Search for \"Remote Desktop Connection\" in the Apple App Store.\n",
    "2. Enter any of the Computer Servers in the list below.\n",
    "3. Enter in your EML account info from the e-mail you received from the instructions above.\n",
    "4. Press connect."
   ]
  },
  {
   "cell_type": "markdown",
   "metadata": {},
   "source": [
    "## EML Computer Servers\n",
    "\n",
    "Any of these servers should work. \n",
    "\n",
    "Sometimes your instance crashes so you will need to switch to a different server. \n",
    "\n",
    "1. *quesnay.berkeley.edu*\n",
    "2. *marshall.berkeley.edu*\n",
    "3. *quesnay.berkeley.edu*"
   ]
  },
  {
   "cell_type": "markdown",
   "metadata": {},
   "source": [
    "## Start Up Tips\n",
    "\n",
    "Once you've successfully remote accessed into any of those servers from above, there are some things you should keep mind of.\n",
    "\n",
    "1. The servers use Linux, which is similar to Mac but can be a little confusing at first so you can watch this to familiarize yourself with the new environment if you are not familiar with Linux environments:\n",
    "    - https://www.youtube.com/watch?v=e86al5wcNaA\n",
    "\n",
    "\n",
    "2. Keep your private files that you do not want others to see at /accounts/projects/mzuk/brian-truong/\n",
    "    - Note: the space allocated to this directory is very small, so large files will not fit here.\n",
    "    - You can access this via the Terminal or Folder\n",
    "    \n",
    "    \n",
    "3. Store most of your work, big files, and data in your scratch partition. Keep mind of your storage use as other people are using these servers as well. Do not hog all the space. \n",
    "\n",
    "    - To create your scratch partition (in File Systems) go to: /scratch/public\n",
    "    - In this directory, create a folder and name it appropriately. This is where you will store most of your work.\n",
    "    - You can access this via the Terminal or Folder\n",
    "    - This directory is PUBLIC unlike the PRIVATE directory from above (2)\n",
    "    - Able to store much more files and data in this directory unlike above (2)"
   ]
  },
  {
   "cell_type": "markdown",
   "metadata": {},
   "source": [
    "## Jupyter Notebook, SQLite, RStudio, Atom, Emacs, Julia, Sublime Text\n",
    "\n",
    "### Jupyter Notebook\n",
    "\n",
    "1. To access Jupyter Notebook go to: https://jupyter.econ.berkeley.edu/hub/login\n",
    "2. Enter in your CalCentral Username and Password\n",
    "3. Under \"Select a partition\", select low or high. The default standalone is much slower than these 2 partitions.\n",
    "4. Press Spawn.\n",
    "\n",
    "*Alternatively*, you can spawn a local instance of Jupyter Notebook but this may run slower than the one from above.\n",
    "\n",
    "1. Open Terminal\n",
    "2. Type \"jupyer notebook\" and press enter\n",
    "\n",
    "###  RStudio, Atom, Emacs, Julia, RStudio, Sublime Text\n",
    "1. Open Applications\n",
    "2. Under Development, press the relevant one for you\n",
    "\n",
    "### SQLite\n",
    "1. Open Terminal\n",
    "2. In terminal, type \"cd /scratch/public/your-username\"\n",
    "3. Once in this directory, create your SQLite database by typing into terminal, \"sqlite3 db_name.sqlite\"\n",
    "4. You can now use any SQLite commands. To re-enter again if you quit re-enter \"sqlite3 db_name.sqlite\""
   ]
  },
  {
   "cell_type": "markdown",
   "metadata": {},
   "source": [
    "## Zillow\n",
    "\n",
    "### Access\n",
    "1. The Zillow data is available in the directory: /scratch/public/ztrax\n",
    "2. Read the README.txt\n",
    "3. The data is split into Zillow Assessor and Zillow Transaction. Select the folder you need.\n",
    "4. The data is further split state-by-state. For example, \"/06\" is California.\n",
    "5. Use SQLite, R, Jupyter Notebook Python, or any database accessors to read in these files. They are seperate by \"|\".\n",
    "\n",
    "### Zillow Code and Guide\n",
    "1. For code or guidance, please check out our github repos at: https://github.com/cci-ucb\n",
    "2. You will need to be added by an admin in order to view these github repos."
   ]
  },
  {
   "cell_type": "markdown",
   "metadata": {},
   "source": [
    "## VPN (for working off-campus)\n",
    "\n",
    "You will need this if you are unable to connect to AirBears\n",
    "https://software.berkeley.edu/cisco-vpn\n",
    "\n",
    "1. Download and Install the AnyConnect software based on your Operating System (Mac, Windows, etc)\n",
    "2. Connect to ucbvpn.berkeley.edu\n",
    "3. Enter in your CalCentral ID and Password.\"\n",
    "4. You can now freely remote into the EML servers from anywhere outside campus."
   ]
  },
  {
   "cell_type": "markdown",
   "metadata": {},
   "source": [
    "## Further Info\n",
    "\n",
    "For further questions, please e-mail me at: brian-truong@berkeley.edu\n",
    "\n",
    "For EML admin related questions, please e-mail Rowilma: rowilma@econ.berkeley.edu \n",
    "\n",
    "For other EML info, please check out their website: eml.berkeley.edu"
   ]
  },
  {
   "cell_type": "code",
   "execution_count": null,
   "metadata": {},
   "outputs": [],
   "source": []
  }
 ],
 "metadata": {
  "kernelspec": {
   "display_name": "Python 3",
   "language": "python",
   "name": "python3"
  },
  "language_info": {
   "codemirror_mode": {
    "name": "ipython",
    "version": 3
   },
   "file_extension": ".py",
   "mimetype": "text/x-python",
   "name": "python",
   "nbconvert_exporter": "python",
   "pygments_lexer": "ipython3",
   "version": "3.6.5"
  }
 },
 "nbformat": 4,
 "nbformat_minor": 2
}
